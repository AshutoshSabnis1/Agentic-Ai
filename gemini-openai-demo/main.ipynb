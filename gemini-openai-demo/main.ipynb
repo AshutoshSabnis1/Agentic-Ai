{
 "cells": [
  {
   "cell_type": "code",
   "execution_count": 2,
   "id": "0776f01d",
   "metadata": {},
   "outputs": [],
   "source": [
    "# ============================\n",
    "# 1) Import dotenv and set Gemini API base URL\n",
    "# ============================\n",
    "\n",
    "# Import load_dotenv to read environment variables from a .env file\n",
    "from dotenv import load_dotenv\n",
    "\n",
    "# Base URL for Gemini's OpenAI-compatible endpoint\n",
    "# (Gemini provides an OpenAI-style API, so you can use the same OpenAI client)\n",
    "GEMINI_BASE_URL = \"https://generativelanguage.googleapis.com/v1beta/openai/\""
   ]
  },
  {
   "cell_type": "code",
   "execution_count": 3,
   "id": "19d0dafe",
   "metadata": {},
   "outputs": [
    {
     "data": {
      "text/plain": [
       "True"
      ]
     },
     "execution_count": 3,
     "metadata": {},
     "output_type": "execute_result"
    }
   ],
   "source": [
    "# ============================\n",
    "# 2) Load environment variables and check API key\n",
    "# ============================\n",
    "\n",
    "# Load environment variables from the .env file\n",
    "# override=True means it will overwrite any existing variables\n",
    "load_dotenv(override=True)\n"
   ]
  },
  {
   "cell_type": "code",
   "execution_count": 4,
   "id": "0a78e5ea",
   "metadata": {},
   "outputs": [
    {
     "name": "stdout",
     "output_type": "stream",
     "text": [
      "OpenAI API Key exists and begins AIzaSyCa\n"
     ]
    }
   ],
   "source": [
    "import os\n",
    "\n",
    "# Try to read the Gemini API key from the environment\n",
    "openai_api_key = os.getenv('GEMINI_API_KEY')\n",
    "\n",
    "# Check if the key exists and print a partial version of it\n",
    "if openai_api_key:\n",
    "    print(f\"OpenAI API Key exists and begins {openai_api_key[:8]}\")\n",
    "else:\n",
    "    print(\"OpenAI API Key not set - please head to the troubleshooting guide in the setup folder\")"
   ]
  },
  {
   "cell_type": "code",
   "execution_count": 5,
   "id": "ce341ee9",
   "metadata": {},
   "outputs": [],
   "source": [
    "# ============================\n",
    "# 3) Import OpenAI client\n",
    "# ============================\n",
    "\n",
    "# Import the OpenAI client class\n",
    "# Even though you’re using Gemini, you still use this import because Gemini mimics the OpenAI API format\n",
    "from openai import OpenAI"
   ]
  },
  {
   "cell_type": "code",
   "execution_count": 6,
   "id": "0cd2ac16",
   "metadata": {},
   "outputs": [],
   "source": [
    "# ============================\n",
    "# 4) Create Gemini client instance\n",
    "# ============================\n",
    "\n",
    "# Load the actual Google Gemini API key from .env\n",
    "google_api_key = os.getenv(\"GOOGLE_API_KEY\")\n",
    "\n",
    "# Create a client for Gemini by pointing OpenAI client to Gemini's base URL\n",
    "# This way, all OpenAI-like requests go to Gemini's servers\n",
    "gemini = OpenAI(base_url=GEMINI_BASE_URL, api_key=google_api_key)"
   ]
  },
  {
   "cell_type": "code",
   "execution_count": 7,
   "id": "421cb8f4",
   "metadata": {},
   "outputs": [
    {
     "name": "stdout",
     "output_type": "stream",
     "text": [
      "2 + 2 = 4\n"
     ]
    }
   ],
   "source": [
    "# ============================\n",
    "# 5) Send a simple test prompt to Gemini\n",
    "# ============================\n",
    "\n",
    "# Create a conversation (list of messages) in OpenAI’s chat format\n",
    "messages = [{\"role\": \"user\", \"content\": \"What is 2+2?\"}]\n",
    "\n",
    "# Call Gemini’s API using the chat.completions endpoint\n",
    "response = gemini.chat.completions.create(\n",
    "    model=\"gemini-2.5-flash\",   # choose Gemini model\n",
    "    messages=messages\n",
    ")\n",
    "\n",
    "# Print the assistant's reply (the content of the first choice)\n",
    "print(response.choices[0].message.content)"
   ]
  },
  {
   "cell_type": "code",
   "execution_count": 8,
   "id": "bb2f698c",
   "metadata": {},
   "outputs": [
    {
     "name": "stdout",
     "output_type": "stream",
     "text": [
      "What is the next number in the sequence: 1, 2, 4, 8, 16, 23, 30, 38, 47, 57, 68, ___?\n"
     ]
    }
   ],
   "source": [
    "# ============================\n",
    "# 6) Ask Gemini to generate a hard IQ-style question\n",
    "# ============================\n",
    "\n",
    "# Define the instruction\n",
    "question = \"Please propose a hard, challenging question to assess someone's IQ. Respond only with the question.\"\n",
    "messages = [{\"role\": \"user\", \"content\": question}]\n",
    "\n",
    "# Call Gemini to generate the IQ question\n",
    "response = gemini.chat.completions.create(\n",
    "    model=\"gemini-2.5-flash\",\n",
    "    messages=messages\n",
    ")\n",
    "\n",
    "# Extract and print the generated question\n",
    "question = response.choices[0].message.content\n",
    "print(question)"
   ]
  },
  {
   "cell_type": "code",
   "execution_count": 9,
   "id": "c7d15faa",
   "metadata": {},
   "outputs": [
    {
     "name": "stdout",
     "output_type": "stream",
     "text": [
      "Let's break down the sequence by looking at the differences between consecutive numbers:\n",
      "\n",
      "1.  **Original Sequence:** 1, 2, 4, 8, 16, 23, 30, 38, 47, 57, 68\n",
      "\n",
      "2.  **First Differences (Difference between terms):**\n",
      "    *   2 - 1 = 1\n",
      "    *   4 - 2 = 2\n",
      "    *   8 - 4 = 4\n",
      "    *   16 - 8 = 8\n",
      "    *   23 - 16 = 7  <-- The pattern changes here\n",
      "    *   30 - 23 = 7\n",
      "    *   38 - 30 = 8\n",
      "    *   47 - 38 = 9\n",
      "    *   57 - 47 = 10\n",
      "    *   68 - 57 = 11\n",
      "\n",
      "    The sequence of differences is: 1, 2, 4, 8, 7, 7, 8, 9, 10, 11\n",
      "\n",
      "3.  **Analyzing the Differences:**\n",
      "    *   The first four differences (1, 2, 4, 8) are clearly doubling each time.\n",
      "    *   After that, the differences become (7, 7, 8, 9, 10, 11). This part shows a pattern of increasing by 1, after an initial two 7s.\n",
      "\n",
      "    So, the pattern for the differences seems to be:\n",
      "    *   Start with $1, 2, 4, 8$ (powers of 2, or doubling)\n",
      "    *   Then, switch to $7, 7, 8, 9, 10, 11, \\dots$ (starting with 7, repeating it, then adding 1 each time).\n",
      "\n",
      "4.  **Predicting the Next Difference:**\n",
      "    Following the second part of the difference pattern (7, 7, 8, 9, 10, 11), the next logical number in this sequence would be **12**.\n",
      "\n",
      "5.  **Finding the Next Number in the Original Sequence:**\n",
      "    Add this predicted difference (12) to the last number in the original sequence (68):\n",
      "    68 + 12 = **80**\n",
      "\n",
      "The next number in the sequence is **80**.\n"
     ]
    }
   ],
   "source": [
    "# ============================\n",
    "# 7) Ask Gemini to answer the generated IQ question\n",
    "# ============================\n",
    "\n",
    "# Now, set the question as the new user input\n",
    "messages = [{\"role\": \"user\", \"content\": question}]\n",
    "\n",
    "# Call Gemini again to answer the question\n",
    "response = gemini.chat.completions.create(\n",
    "    model=\"gemini-2.5-flash\",\n",
    "    messages=messages\n",
    ")\n",
    "\n",
    "# Extract and print the answer\n",
    "answer = response.choices[0].message.content\n",
    "print(answer)\n"
   ]
  },
  {
   "cell_type": "code",
   "execution_count": 10,
   "id": "274fe5d6",
   "metadata": {},
   "outputs": [
    {
     "data": {
      "text/markdown": [
       "Let's break down the sequence by looking at the differences between consecutive numbers:\n",
       "\n",
       "1.  **Original Sequence:** 1, 2, 4, 8, 16, 23, 30, 38, 47, 57, 68\n",
       "\n",
       "2.  **First Differences (Difference between terms):**\n",
       "    *   2 - 1 = 1\n",
       "    *   4 - 2 = 2\n",
       "    *   8 - 4 = 4\n",
       "    *   16 - 8 = 8\n",
       "    *   23 - 16 = 7  <-- The pattern changes here\n",
       "    *   30 - 23 = 7\n",
       "    *   38 - 30 = 8\n",
       "    *   47 - 38 = 9\n",
       "    *   57 - 47 = 10\n",
       "    *   68 - 57 = 11\n",
       "\n",
       "    The sequence of differences is: 1, 2, 4, 8, 7, 7, 8, 9, 10, 11\n",
       "\n",
       "3.  **Analyzing the Differences:**\n",
       "    *   The first four differences (1, 2, 4, 8) are clearly doubling each time.\n",
       "    *   After that, the differences become (7, 7, 8, 9, 10, 11). This part shows a pattern of increasing by 1, after an initial two 7s.\n",
       "\n",
       "    So, the pattern for the differences seems to be:\n",
       "    *   Start with $1, 2, 4, 8$ (powers of 2, or doubling)\n",
       "    *   Then, switch to $7, 7, 8, 9, 10, 11, \\dots$ (starting with 7, repeating it, then adding 1 each time).\n",
       "\n",
       "4.  **Predicting the Next Difference:**\n",
       "    Following the second part of the difference pattern (7, 7, 8, 9, 10, 11), the next logical number in this sequence would be **12**.\n",
       "\n",
       "5.  **Finding the Next Number in the Original Sequence:**\n",
       "    Add this predicted difference (12) to the last number in the original sequence (68):\n",
       "    68 + 12 = **80**\n",
       "\n",
       "The next number in the sequence is **80**."
      ],
      "text/plain": [
       "<IPython.core.display.Markdown object>"
      ]
     },
     "metadata": {},
     "output_type": "display_data"
    }
   ],
   "source": [
    "# ============================\n",
    "# 8) Display the answer in formatted Markdown (Jupyter Notebook friendly)\n",
    "# ============================\n",
    "\n",
    "from IPython.display import Markdown, display\n",
    "\n",
    "# Nicely format the answer in Markdown for better readability\n",
    "display(Markdown(answer))\n"
   ]
  }
 ],
 "metadata": {
  "kernelspec": {
   "display_name": "base",
   "language": "python",
   "name": "python3"
  },
  "language_info": {
   "codemirror_mode": {
    "name": "ipython",
    "version": 3
   },
   "file_extension": ".py",
   "mimetype": "text/x-python",
   "name": "python",
   "nbconvert_exporter": "python",
   "pygments_lexer": "ipython3",
   "version": "3.12.7"
  }
 },
 "nbformat": 4,
 "nbformat_minor": 5
}
